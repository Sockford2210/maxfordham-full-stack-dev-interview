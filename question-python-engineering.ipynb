{
 "cells": [
  {
   "cell_type": "markdown",
   "id": "67ab73ad",
   "metadata": {},
   "source": [
    "# Python Engineering Interview Question\n",
    "\n",
    "This question demonstrates an illustrative example of the type of engineering question that could be encountered while supporting construction projects. The question is simplified and idealised, and there is not a \"correct\" implementation, instead we are interested in the approach and understanding of the task. Where important external resources or AI prompts are used, note them. The question can be completed with the packages provided in the `pixi.toml`, but if you feel confident you can justify using other packages you may do so."
   ]
  },
  {
   "cell_type": "code",
   "execution_count": null,
   "id": "41a3a6b7",
   "metadata": {},
   "outputs": [],
   "source": [
    "%run __init__.py"
   ]
  },
  {
   "cell_type": "code",
   "execution_count": null,
   "id": "c8abea4c-0570-4689-9bb3-8297967e15dd",
   "metadata": {},
   "outputs": [],
   "source": [
    "import numpy as np\n",
    "import heapq\n",
    "import matplotlib.pyplot as plt\n",
    "import csv\n",
    "from pathlib import Path"
   ]
  },
  {
   "cell_type": "markdown",
   "id": "e9939ae0",
   "metadata": {},
   "source": [
    "The array represents a simple 2D floor plan indicative of an architectural plan for an office building.  "
   ]
  },
  {
   "cell_type": "code",
   "execution_count": null,
   "id": "a2e06365-44ab-4cea-9262-51f7ede528ec",
   "metadata": {},
   "outputs": [
    {
     "data": {
      "image/png": "[encoded data removed]",
      "text/plain": [
       "<Figure size 1000x1000 with 1 Axes>"
      ]
     },
     "metadata": {},
     "output_type": "display_data"
    }
   ],
   "source": [
    "\n",
    "rows = list(csv.reader(Path(\"grid.tsv\").open(encoding=\"utf-8\"), delimiter=\"\\t\"))\n",
    "grid = np.array([[int(x) for x in row] for row in rows])\n",
    "start = (18, 40)\n",
    "goal = (92, 25)\n",
    "\n",
    "fig, ax = plt.subplots(figsize=(10, 10))\n",
    "ax.imshow(grid, cmap=plt.cm.Dark2)\n",
    "ax.scatter(start[1], start[0], marker=\"*\", color=\"yellow\", s=200)\n",
    "ax.scatter(goal[1], goal[0], marker=\"*\", color=\"red\", s=200)\n",
    "plt.show()"
   ]
  },
  {
   "cell_type": "markdown",
   "id": "c377b10d",
   "metadata": {},
   "source": [
    "1. Using a path finding algorithm find the shortest path from the start to the goal, avoiding the walls? \n",
    "\n",
    "- consider which algorithm to use, and why?\n",
    "- allow orthogonal movement only (discussion point)\n",
    "- apply a penalty for adding a bend in the path (discussion point)\n",
    "- plot on the path on the grid\n",
    "- consider how to deal with stud walls (they can be penetrated, but are ideally avoided...?)"
   ]
  },
  {
   "cell_type": "code",
   "execution_count": null,
   "id": "18fb3e32",
   "metadata": {},
   "outputs": [],
   "source": [
    "# %answer .solutions/1.py\n",
    "# %run .solutions/1.py"
   ]
  },
  {
   "cell_type": "markdown",
   "id": "cdac7f34",
   "metadata": {},
   "source": [
    "2. Find all the nodes in the path where the route changes direction? \n",
    "- plot these on the grid"
   ]
  },
  {
   "cell_type": "code",
   "execution_count": null,
   "id": "0d6093d7",
   "metadata": {},
   "outputs": [],
   "source": [
    "# %answer .solutions/2.py\n",
    "# %run .solutions/2.py"
   ]
  },
  {
   "cell_type": "markdown",
   "id": "b131d8e7",
   "metadata": {},
   "source": [
    "3. Imagine that the path is the route of pipework. An engineer must calculate the length of pipework required, and the number of bends, and use this information to calculate the pressure drop down the length of the pipework.\n",
    "- make a list of all the straight sections of pipework, and the bends from the start to the goal\n",
    "- using the [fluids](https://fluids.readthedocs.io/tutorial.html#pressure-drop-through-piping) library, calculate the pressure drop along the length of the pipework"
   ]
  },
  {
   "cell_type": "code",
   "execution_count": null,
   "id": "ad0df593",
   "metadata": {},
   "outputs": [],
   "source": [
    "# %answer .solutions/3.py\n",
    "# %run .solutions/3.py"
   ]
  }
 ],
 "metadata": {
  "kernelspec": {
   "display_name": "Python 3 (ipykernel)",
   "language": "python",
   "name": "python3"
  },
  "language_info": {
   "codemirror_mode": {
    "name": "ipython",
    "version": 3
   },
   "file_extension": ".py",
   "mimetype": "text/x-python",
   "name": "python",
   "nbconvert_exporter": "python",
   "pygments_lexer": "ipython3",
   "version": "3.13.5"
  }
 },
 "nbformat": 4,
 "nbformat_minor": 5
}
